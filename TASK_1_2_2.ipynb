{
  "nbformat": 4,
  "nbformat_minor": 0,
  "metadata": {
    "colab": {
      "provenance": [],
      "collapsed_sections": [],
      "authorship_tag": "ABX9TyNrxU1z6VfzVwTw5AFWUDfG",
      "include_colab_link": true
    },
    "kernelspec": {
      "name": "python3",
      "display_name": "Python 3"
    },
    "language_info": {
      "name": "python"
    }
  },
  "cells": [
    {
      "cell_type": "markdown",
      "metadata": {
        "id": "view-in-github",
        "colab_type": "text"
      },
      "source": [
        "<a href=\"https://colab.research.google.com/github/KorhanErkan/TASK-1.2.2/blob/master/TASK_1_2_2.ipynb\" target=\"_parent\"><img src=\"https://colab.research.google.com/assets/colab-badge.svg\" alt=\"Open In Colab\"/></a>"
      ]
    },
    {
      "cell_type": "code",
      "execution_count": null,
      "metadata": {
        "colab": {
          "base_uri": "https://localhost:8080/"
        },
        "id": "ZlvlJwKJ-PZ9",
        "outputId": "29007b3b-97d4-455b-9d1c-b56535e87cee"
      },
      "outputs": [
        {
          "output_type": "execute_result",
          "data": {
            "text/plain": [
              "True"
            ]
          },
          "metadata": {},
          "execution_count": 1
        }
      ],
      "source": [
        "def is_prime(num):\n",
        "  i = 3\n",
        "  if (num<2):\n",
        "    return False\n",
        "  elif (num==2):\n",
        "    return True\n",
        "  elif (num%2==0):\n",
        "    return False\n",
        "  while i<int(num/2):\n",
        "    if (num%i == 0):\n",
        "      return False\n",
        "    else:\n",
        "      i+=2\n",
        "  return True\n",
        "\n",
        "first_100 = [2]\n",
        "counter = 1\n",
        "for x in range(3,9999,2):\n",
        "  if(is_prime(x)):\n",
        "    first_100.append(x)\n",
        "    counter += 1\n",
        "    if(counter == 100):\n",
        "      break\n",
        "\n",
        "print(first_100)\n",
        "print(len(first_100))"
      ]
    }
  ]
}